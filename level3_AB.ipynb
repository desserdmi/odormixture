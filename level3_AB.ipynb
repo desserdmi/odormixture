{
 "cells": [
  {
   "cell_type": "code",
   "execution_count": 1,
   "metadata": {},
   "outputs": [],
   "source": [
    "%matplotlib inline\n",
    "import os\n",
    "from os.path import abspath\n",
    "from os.path import join as opj\n",
    "from nipype.interfaces.io import SelectFiles, DataSink\n",
    "from nipype.interfaces.spm import (OneSampleTTestDesign, TwoSampleTTestDesign, EstimateModel,\n",
    "                                   EstimateContrast, Threshold)\n",
    "from nipype.interfaces.utility import IdentityInterface\n",
    "from nipype import Workflow, Node\n",
    "from nipype.interfaces.fsl import Info\n",
    "from nipype.algorithms.misc import Gunzip\n",
    "import nipype.interfaces.matlab as mlab\n",
    "matlab_cmd = ''"
   ]
  },
  {
   "cell_type": "code",
   "execution_count": 2,
   "metadata": {},
   "outputs": [],
   "source": [
    "mlab.MatlabCommand.set_default_matlab_cmd(\"matlab -nodesktop -nosplash\")\n",
    "        # If SPM is not in your MATLAB path you should add it here\n",
    "matlab_cmd = 'users/dima/Applications/MATLAB_R2018ba.app/bin/matlab'\n",
    "\n",
    "project_path = abspath('../data')\n",
    "\n",
    "\n",
    "data_dir = os.path.abspath('../data')\n",
    "project_dir = os.path.abspath\n",
    "output_dir = os.path.abspath('../data/derivatives/SPM')\n",
    "working_dir = os.path.abspath('../data/derivatives/SPM/level3/workdir_AB')\n",
    "preproc_dir = os.path.abspath('preproc')\n",
    "mask = abspath('../data/derivatives/SPM/level2/group_mask.nii')"
   ]
  },
  {
   "cell_type": "code",
   "execution_count": 3,
   "metadata": {},
   "outputs": [],
   "source": [
    "import json\n",
    "from os.path import isfile\n",
    "from os import listdir\n",
    "from glob import glob\n",
    "import os\n",
    "from os.path import abspath\n",
    "data_dir = os.path.abspath('../data')\n",
    "\n",
    "\n",
    "conlist1 = []\n",
    "import json\n",
    "with open(\"AB.json\") as f:\n",
    "    groups = json.load(f)\n",
    "\n",
    "for key, value in groups.items():\n",
    "    subject_id = key\n",
    "    for run_id in list(value):\n",
    "\n",
    "        results = os.path.join(data_dir, \"derivatives\", \"SPM\", \"level1\",\n",
    "                                   \"sub-%s\" % subject_id, \"run-0%s\" % run_id, \"con_0009.nii\")\n",
    "        if isfile(results):\n",
    "            conlist1.append(results)"
   ]
  },
  {
   "cell_type": "code",
   "execution_count": 4,
   "metadata": {},
   "outputs": [],
   "source": [
    "conlist2 = []\n",
    "import json\n",
    "with open(\"ABCD.json\") as f:\n",
    "    groups = json.load(f)\n",
    "\n",
    "for key, value in groups.items():\n",
    "    subject_id = key\n",
    "    for run_id in list(value):\n",
    "\n",
    "        results = os.path.join(data_dir, \"derivatives\", \"SPM\", \"level1\",\n",
    "                                   \"sub-%s\" % subject_id, \"run-0%s\" % run_id, \"con_0005.nii\")\n",
    "        if isfile(results):\n",
    "            conlist2.append(results)"
   ]
  },
  {
   "cell_type": "code",
   "execution_count": 5,
   "metadata": {},
   "outputs": [
    {
     "name": "stdout",
     "output_type": "stream",
     "text": [
      "['/Users/dima/Desktop/odormixture/data/derivatives/SPM/level1/sub-03/run-03/con_0009.nii', '/Users/dima/Desktop/odormixture/data/derivatives/SPM/level1/sub-03/run-05/con_0009.nii', '/Users/dima/Desktop/odormixture/data/derivatives/SPM/level1/sub-04/run-03/con_0009.nii', '/Users/dima/Desktop/odormixture/data/derivatives/SPM/level1/sub-04/run-05/con_0009.nii', '/Users/dima/Desktop/odormixture/data/derivatives/SPM/level1/sub-05/run-03/con_0009.nii', '/Users/dima/Desktop/odormixture/data/derivatives/SPM/level1/sub-05/run-05/con_0009.nii', '/Users/dima/Desktop/odormixture/data/derivatives/SPM/level1/sub-06/run-03/con_0009.nii', '/Users/dima/Desktop/odormixture/data/derivatives/SPM/level1/sub-06/run-05/con_0009.nii', '/Users/dima/Desktop/odormixture/data/derivatives/SPM/level1/sub-07/run-03/con_0009.nii', '/Users/dima/Desktop/odormixture/data/derivatives/SPM/level1/sub-07/run-05/con_0009.nii', '/Users/dima/Desktop/odormixture/data/derivatives/SPM/level1/sub-09/run-04/con_0009.nii', '/Users/dima/Desktop/odormixture/data/derivatives/SPM/level1/sub-09/run-06/con_0009.nii', '/Users/dima/Desktop/odormixture/data/derivatives/SPM/level1/sub-10/run-04/con_0009.nii', '/Users/dima/Desktop/odormixture/data/derivatives/SPM/level1/sub-10/run-06/con_0009.nii', '/Users/dima/Desktop/odormixture/data/derivatives/SPM/level1/sub-11/run-04/con_0009.nii', '/Users/dima/Desktop/odormixture/data/derivatives/SPM/level1/sub-11/run-06/con_0009.nii', '/Users/dima/Desktop/odormixture/data/derivatives/SPM/level1/sub-12/run-04/con_0009.nii', '/Users/dima/Desktop/odormixture/data/derivatives/SPM/level1/sub-12/run-06/con_0009.nii', '/Users/dima/Desktop/odormixture/data/derivatives/SPM/level1/sub-13/run-04/con_0009.nii', '/Users/dima/Desktop/odormixture/data/derivatives/SPM/level1/sub-13/run-06/con_0009.nii', '/Users/dima/Desktop/odormixture/data/derivatives/SPM/level1/sub-15/run-04/con_0009.nii', '/Users/dima/Desktop/odormixture/data/derivatives/SPM/level1/sub-15/run-06/con_0009.nii', '/Users/dima/Desktop/odormixture/data/derivatives/SPM/level1/sub-16/run-04/con_0009.nii', '/Users/dima/Desktop/odormixture/data/derivatives/SPM/level1/sub-16/run-06/con_0009.nii', '/Users/dima/Desktop/odormixture/data/derivatives/SPM/level1/sub-17/run-01/con_0009.nii', '/Users/dima/Desktop/odormixture/data/derivatives/SPM/level1/sub-17/run-03/con_0009.nii', '/Users/dima/Desktop/odormixture/data/derivatives/SPM/level1/sub-18/run-01/con_0009.nii', '/Users/dima/Desktop/odormixture/data/derivatives/SPM/level1/sub-18/run-03/con_0009.nii', '/Users/dima/Desktop/odormixture/data/derivatives/SPM/level1/sub-19/run-01/con_0009.nii', '/Users/dima/Desktop/odormixture/data/derivatives/SPM/level1/sub-19/run-03/con_0009.nii', '/Users/dima/Desktop/odormixture/data/derivatives/SPM/level1/sub-20/run-01/con_0009.nii', '/Users/dima/Desktop/odormixture/data/derivatives/SPM/level1/sub-20/run-03/con_0009.nii', '/Users/dima/Desktop/odormixture/data/derivatives/SPM/level1/sub-21/run-01/con_0009.nii', '/Users/dima/Desktop/odormixture/data/derivatives/SPM/level1/sub-21/run-03/con_0009.nii', '/Users/dima/Desktop/odormixture/data/derivatives/SPM/level1/sub-23/run-01/con_0009.nii', '/Users/dima/Desktop/odormixture/data/derivatives/SPM/level1/sub-23/run-03/con_0009.nii', '/Users/dima/Desktop/odormixture/data/derivatives/SPM/level1/sub-24/run-01/con_0009.nii', '/Users/dima/Desktop/odormixture/data/derivatives/SPM/level1/sub-24/run-03/con_0009.nii', '/Users/dima/Desktop/odormixture/data/derivatives/SPM/level1/sub-25/run-02/con_0009.nii', '/Users/dima/Desktop/odormixture/data/derivatives/SPM/level1/sub-25/run-04/con_0009.nii', '/Users/dima/Desktop/odormixture/data/derivatives/SPM/level1/sub-26/run-02/con_0009.nii', '/Users/dima/Desktop/odormixture/data/derivatives/SPM/level1/sub-26/run-04/con_0009.nii', '/Users/dima/Desktop/odormixture/data/derivatives/SPM/level1/sub-27/run-02/con_0009.nii', '/Users/dima/Desktop/odormixture/data/derivatives/SPM/level1/sub-27/run-04/con_0009.nii', '/Users/dima/Desktop/odormixture/data/derivatives/SPM/level1/sub-29/run-02/con_0009.nii', '/Users/dima/Desktop/odormixture/data/derivatives/SPM/level1/sub-29/run-04/con_0009.nii', '/Users/dima/Desktop/odormixture/data/derivatives/SPM/level1/sub-30/run-02/con_0009.nii', '/Users/dima/Desktop/odormixture/data/derivatives/SPM/level1/sub-30/run-04/con_0009.nii'] ['/Users/dima/Desktop/odormixture/data/derivatives/SPM/level1/sub-03/run-01/con_0005.nii', '/Users/dima/Desktop/odormixture/data/derivatives/SPM/level1/sub-03/run-02/con_0005.nii', '/Users/dima/Desktop/odormixture/data/derivatives/SPM/level1/sub-04/run-01/con_0005.nii', '/Users/dima/Desktop/odormixture/data/derivatives/SPM/level1/sub-04/run-02/con_0005.nii', '/Users/dima/Desktop/odormixture/data/derivatives/SPM/level1/sub-05/run-01/con_0005.nii', '/Users/dima/Desktop/odormixture/data/derivatives/SPM/level1/sub-05/run-02/con_0005.nii', '/Users/dima/Desktop/odormixture/data/derivatives/SPM/level1/sub-06/run-01/con_0005.nii', '/Users/dima/Desktop/odormixture/data/derivatives/SPM/level1/sub-06/run-02/con_0005.nii', '/Users/dima/Desktop/odormixture/data/derivatives/SPM/level1/sub-07/run-01/con_0005.nii', '/Users/dima/Desktop/odormixture/data/derivatives/SPM/level1/sub-07/run-02/con_0005.nii', '/Users/dima/Desktop/odormixture/data/derivatives/SPM/level1/sub-09/run-01/con_0005.nii', '/Users/dima/Desktop/odormixture/data/derivatives/SPM/level1/sub-09/run-02/con_0005.nii', '/Users/dima/Desktop/odormixture/data/derivatives/SPM/level1/sub-10/run-01/con_0005.nii', '/Users/dima/Desktop/odormixture/data/derivatives/SPM/level1/sub-10/run-02/con_0005.nii', '/Users/dima/Desktop/odormixture/data/derivatives/SPM/level1/sub-11/run-01/con_0005.nii', '/Users/dima/Desktop/odormixture/data/derivatives/SPM/level1/sub-11/run-02/con_0005.nii', '/Users/dima/Desktop/odormixture/data/derivatives/SPM/level1/sub-12/run-01/con_0005.nii', '/Users/dima/Desktop/odormixture/data/derivatives/SPM/level1/sub-12/run-02/con_0005.nii', '/Users/dima/Desktop/odormixture/data/derivatives/SPM/level1/sub-13/run-01/con_0005.nii', '/Users/dima/Desktop/odormixture/data/derivatives/SPM/level1/sub-13/run-02/con_0005.nii', '/Users/dima/Desktop/odormixture/data/derivatives/SPM/level1/sub-15/run-01/con_0005.nii', '/Users/dima/Desktop/odormixture/data/derivatives/SPM/level1/sub-15/run-02/con_0005.nii', '/Users/dima/Desktop/odormixture/data/derivatives/SPM/level1/sub-16/run-01/con_0005.nii', '/Users/dima/Desktop/odormixture/data/derivatives/SPM/level1/sub-16/run-02/con_0005.nii', '/Users/dima/Desktop/odormixture/data/derivatives/SPM/level1/sub-17/run-05/con_0005.nii', '/Users/dima/Desktop/odormixture/data/derivatives/SPM/level1/sub-17/run-06/con_0005.nii', '/Users/dima/Desktop/odormixture/data/derivatives/SPM/level1/sub-18/run-05/con_0005.nii', '/Users/dima/Desktop/odormixture/data/derivatives/SPM/level1/sub-18/run-06/con_0005.nii', '/Users/dima/Desktop/odormixture/data/derivatives/SPM/level1/sub-19/run-05/con_0005.nii', '/Users/dima/Desktop/odormixture/data/derivatives/SPM/level1/sub-19/run-06/con_0005.nii', '/Users/dima/Desktop/odormixture/data/derivatives/SPM/level1/sub-20/run-05/con_0005.nii', '/Users/dima/Desktop/odormixture/data/derivatives/SPM/level1/sub-20/run-06/con_0005.nii', '/Users/dima/Desktop/odormixture/data/derivatives/SPM/level1/sub-21/run-05/con_0005.nii', '/Users/dima/Desktop/odormixture/data/derivatives/SPM/level1/sub-21/run-06/con_0005.nii', '/Users/dima/Desktop/odormixture/data/derivatives/SPM/level1/sub-23/run-05/con_0005.nii', '/Users/dima/Desktop/odormixture/data/derivatives/SPM/level1/sub-23/run-06/con_0005.nii', '/Users/dima/Desktop/odormixture/data/derivatives/SPM/level1/sub-24/run-05/con_0005.nii', '/Users/dima/Desktop/odormixture/data/derivatives/SPM/level1/sub-24/run-06/con_0005.nii', '/Users/dima/Desktop/odormixture/data/derivatives/SPM/level1/sub-25/run-05/con_0005.nii', '/Users/dima/Desktop/odormixture/data/derivatives/SPM/level1/sub-25/run-06/con_0005.nii', '/Users/dima/Desktop/odormixture/data/derivatives/SPM/level1/sub-26/run-05/con_0005.nii', '/Users/dima/Desktop/odormixture/data/derivatives/SPM/level1/sub-26/run-06/con_0005.nii', '/Users/dima/Desktop/odormixture/data/derivatives/SPM/level1/sub-27/run-05/con_0005.nii', '/Users/dima/Desktop/odormixture/data/derivatives/SPM/level1/sub-27/run-06/con_0005.nii', '/Users/dima/Desktop/odormixture/data/derivatives/SPM/level1/sub-29/run-05/con_0005.nii', '/Users/dima/Desktop/odormixture/data/derivatives/SPM/level1/sub-29/run-06/con_0005.nii', '/Users/dima/Desktop/odormixture/data/derivatives/SPM/level1/sub-30/run-05/con_0005.nii', '/Users/dima/Desktop/odormixture/data/derivatives/SPM/level1/sub-30/run-06/con_0005.nii']\n"
     ]
    }
   ],
   "source": [
    "print(conlist1, conlist2)"
   ]
  },
  {
   "cell_type": "code",
   "execution_count": 6,
   "metadata": {},
   "outputs": [],
   "source": [
    "# OneSampleTTestDesign - creates one sample T-Test Design\n",
    "twosamplettestdes = Node(TwoSampleTTestDesign(),\n",
    "                         name=\"twosampttestdes\")\n",
    "twosamplettestdes.inputs.group1_files = conlist1\n",
    "twosamplettestdes.inputs.group2_files = conlist2\n",
    "\n",
    "twosamplettestdes.inputs.explicit_mask_file = mask\n",
    "\n",
    "\n",
    "# EstimateModel - estimates the model\n",
    "level2estimate = Node(EstimateModel(estimation_method={'Classical': 1}),\n",
    "                      name=\"level2estimate\")\n",
    "\n",
    "# EstimateContrast - estimates group contrast\n",
    "level2conestimate = Node(EstimateContrast(group_contrast=True),\n",
    "                         name=\"level2conestimate\")\n",
    "con_1 = ('AB','T', ['Group_{1}'],[1])\n",
    "con_2 = ('A_plus_B','T', ['Group_{2}'],[1])\n",
    "con_3 = ('AB_vs_A_plus_B','T',['Group_{1}','Group_{2}'],[1,-1])\n",
    "con_4 = ('A_plus_B_vs_AB','T',['Group_{1}','Group_{2}'],[-1,1])\n",
    "level2conestimate.inputs.contrasts = [con_1,con_2,con_3,con_4]\n",
    "level2conestimate.inputs.group_contrast = True\n",
    "\n",
    "\n",
    "# Threshold - thresholds contrasts\n",
    "level2thresh = Node(Threshold(contrast_index=1,\n",
    "                              use_topo_fdr=True,\n",
    "                              use_fwe_correction=False,\n",
    "                              extent_threshold=0,\n",
    "                              height_threshold=0.005,\n",
    "                              height_threshold_type='p-value',\n",
    "                              extent_fdr_p_threshold=0.05),\n",
    "                    name=\"level2thresh\")\n",
    "# Datasink - creates output folder for important outputs\n",
    "datasink = Node(DataSink(base_directory=output_dir, parameterization=False,\n",
    "                                 container='level3/twosamplettest'),\n",
    "                        name=\"datasink\")"
   ]
  },
  {
   "cell_type": "code",
   "execution_count": 7,
   "metadata": {},
   "outputs": [],
   "source": [
    "# Initiation of the 2nd-level analysis workflow\n",
    "l2analysis = Workflow(name='level2')\n",
    "l2analysis.base_dir = working_dir\n",
    "\n",
    "# Connect up the 2nd-level analysis components\n",
    "l2analysis.connect([(twosamplettestdes, level2estimate, [('spm_mat_file',\n",
    "                                                          'spm_mat_file')]),\n",
    "                    (level2estimate, level2conestimate, [('spm_mat_file',\n",
    "                                                          'spm_mat_file'),\n",
    "                                                         ('beta_images',\n",
    "                                                          'beta_images'),\n",
    "                                                         ('residual_image',\n",
    "                                                          'residual_image')]),\n",
    "                   # (level2conestimate, level2thresh, [('spm_mat_file',\n",
    "                    #                                    'spm_mat_file'),\n",
    "                     #                                  ('spmT_images',\n",
    "                      #                                  'stat_image'),\n",
    "                       #                                ]),\n",
    "                    (level2conestimate, datasink, [('spm_mat_file',\n",
    "                                                    '@spm_mat'),\n",
    "                                                   ('spmT_images',\n",
    "                                                    '@T'),\n",
    "                                                   ('con_images',\n",
    "                                                    '@con')]),\n",
    "                    #(level2thresh, datasink, [('thresholded_map',\n",
    "                                             #  '@threshold')]),\n",
    "                    ])"
   ]
  },
  {
   "cell_type": "code",
   "execution_count": 8,
   "metadata": {},
   "outputs": [
    {
     "name": "stdout",
     "output_type": "stream",
     "text": [
      "190227-18:13:00,835 nipype.workflow INFO:\n",
      "\t Generated workflow graph: /Users/dima/Desktop/odormixture/data/derivatives/SPM/level3/workdir_AB/level2/graph.png (graph2use=colored, simple_form=True).\n"
     ]
    },
    {
     "data": {
      "image/png": "[encoded data removed]",
      "text/plain": [
       "<IPython.core.display.Image object>"
      ]
     },
     "execution_count": 8,
     "metadata": {},
     "output_type": "execute_result"
    }
   ],
   "source": [
    "# Create 1st-level analysis output graph\n",
    "l2analysis.write_graph(graph2use='colored', format='png', simple_form=True)\n",
    "\n",
    "# Visualize the graph\n",
    "from IPython.display import Image\n",
    "Image(filename=opj(l2analysis.base_dir, 'level2', 'graph.png'))"
   ]
  },
  {
   "cell_type": "code",
   "execution_count": 9,
   "metadata": {},
   "outputs": [
    {
     "name": "stdout",
     "output_type": "stream",
     "text": [
      "190227-18:13:00,892 nipype.workflow INFO:\n",
      "\t Workflow level2 settings: ['check', 'execution', 'logging', 'monitoring']\n",
      "190227-18:13:00,908 nipype.workflow INFO:\n",
      "\t Running in parallel.\n",
      "190227-18:13:00,912 nipype.workflow INFO:\n",
      "\t [MultiProc] Running 0 tasks, and 1 jobs ready. Free memory (GB): 14.40/14.40, Free processors: 4/4.\n",
      "190227-18:13:01,36 nipype.workflow INFO:\n",
      "\t [Node] Setting-up \"level2.twosampttestdes\" in \"/Users/dima/Desktop/odormixture/data/derivatives/SPM/level3/workdir_AB/level2/twosampttestdes\".\n",
      "190227-18:13:01,55 nipype.workflow INFO:\n",
      "\t [Node] Running \"twosampttestdes\" (\"nipype.interfaces.spm.model.TwoSampleTTestDesign\")\n",
      "190227-18:13:02,914 nipype.workflow INFO:\n",
      "\t [MultiProc] Running 1 tasks, and 0 jobs ready. Free memory (GB): 14.20/14.40, Free processors: 3/4.\n",
      "                     Currently running:\n",
      "                       * level2.twosampttestdes\n",
      "190227-18:13:54,531 nipype.workflow INFO:\n",
      "\t [Node] Finished \"level2.twosampttestdes\".\n",
      "190227-18:13:54,977 nipype.workflow INFO:\n",
      "\t [Job 0] Completed (level2.twosampttestdes).\n",
      "190227-18:13:54,980 nipype.workflow INFO:\n",
      "\t [MultiProc] Running 0 tasks, and 1 jobs ready. Free memory (GB): 14.40/14.40, Free processors: 4/4.\n",
      "190227-18:13:55,46 nipype.workflow INFO:\n",
      "\t [Node] Setting-up \"level2.level2estimate\" in \"/Users/dima/Desktop/odormixture/data/derivatives/SPM/level3/workdir_AB/level2/level2estimate\".\n",
      "190227-18:13:55,60 nipype.workflow INFO:\n",
      "\t [Node] Running \"level2estimate\" (\"nipype.interfaces.spm.model.EstimateModel\")\n",
      "190227-18:13:56,984 nipype.workflow INFO:\n",
      "\t [MultiProc] Running 1 tasks, and 0 jobs ready. Free memory (GB): 14.20/14.40, Free processors: 3/4.\n",
      "                     Currently running:\n",
      "                       * level2.level2estimate\n",
      "190227-18:14:58,492 nipype.workflow INFO:\n",
      "\t [Node] Finished \"level2.level2estimate\".\n",
      "190227-18:14:59,50 nipype.workflow INFO:\n",
      "\t [Job 1] Completed (level2.level2estimate).\n",
      "190227-18:14:59,55 nipype.workflow INFO:\n",
      "\t [MultiProc] Running 0 tasks, and 1 jobs ready. Free memory (GB): 14.40/14.40, Free processors: 4/4.\n",
      "190227-18:14:59,124 nipype.workflow INFO:\n",
      "\t [Node] Setting-up \"level2.level2conestimate\" in \"/Users/dima/Desktop/odormixture/data/derivatives/SPM/level3/workdir_AB/level2/level2conestimate\".\n",
      "190227-18:14:59,143 nipype.workflow INFO:\n",
      "\t [Node] Running \"level2conestimate\" (\"nipype.interfaces.spm.model.EstimateContrast\")\n",
      "190227-18:15:01,54 nipype.workflow INFO:\n",
      "\t [MultiProc] Running 1 tasks, and 0 jobs ready. Free memory (GB): 14.20/14.40, Free processors: 3/4.\n",
      "                     Currently running:\n",
      "                       * level2.level2conestimate\n",
      "190227-18:15:55,694 nipype.workflow INFO:\n",
      "\t [Node] Finished \"level2.level2conestimate\".\n",
      "190227-18:15:57,112 nipype.workflow INFO:\n",
      "\t [Job 2] Completed (level2.level2conestimate).\n",
      "190227-18:15:57,120 nipype.workflow INFO:\n",
      "\t [MultiProc] Running 0 tasks, and 1 jobs ready. Free memory (GB): 14.40/14.40, Free processors: 4/4.\n",
      "190227-18:15:57,199 nipype.workflow INFO:\n",
      "\t [Node] Setting-up \"level2.datasink\" in \"/Users/dima/Desktop/odormixture/data/derivatives/SPM/level3/workdir_AB/level2/datasink\".\n",
      "190227-18:15:57,212 nipype.workflow INFO:\n",
      "\t [Node] Running \"datasink\" (\"nipype.interfaces.io.DataSink\")\n",
      "190227-18:15:57,240 nipype.workflow INFO:\n",
      "\t [Node] Finished \"level2.datasink\".\n",
      "190227-18:15:59,117 nipype.workflow INFO:\n",
      "\t [Job 3] Completed (level2.datasink).\n",
      "190227-18:15:59,122 nipype.workflow INFO:\n",
      "\t [MultiProc] Running 0 tasks, and 0 jobs ready. Free memory (GB): 14.40/14.40, Free processors: 4/4.\n"
     ]
    },
    {
     "data": {
      "text/plain": [
       "<networkx.classes.digraph.DiGraph at 0x1a1e77b940>"
      ]
     },
     "execution_count": 9,
     "metadata": {},
     "output_type": "execute_result"
    }
   ],
   "source": [
    "l2analysis.run('MultiProc')"
   ]
  },
  {
   "cell_type": "code",
   "execution_count": null,
   "metadata": {},
   "outputs": [],
   "source": []
  }
 ],
 "metadata": {
  "kernelspec": {
   "display_name": "Python 3",
   "language": "python",
   "name": "python3"
  },
  "language_info": {
   "codemirror_mode": {
    "name": "ipython",
    "version": 3
   },
   "file_extension": ".py",
   "mimetype": "text/x-python",
   "name": "python",
   "nbconvert_exporter": "python",
   "pygments_lexer": "ipython3",
   "version": "3.7.2"
  }
 },
 "nbformat": 4,
 "nbformat_minor": 2
}
